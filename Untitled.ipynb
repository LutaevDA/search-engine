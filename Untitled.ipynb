{
 "cells": [
  {
   "cell_type": "code",
   "execution_count": 61,
   "id": "3f70db76-645c-46b5-8831-ca8c90e215e5",
   "metadata": {},
   "outputs": [],
   "source": [
    "import pandas as pd"
   ]
  },
  {
   "cell_type": "code",
   "execution_count": 62,
   "id": "ffdba5ac-0002-4f5c-959a-216bd2c132f5",
   "metadata": {},
   "outputs": [],
   "source": [
    "import requests \n",
    "\n",
    "docs_url = 'https://github.com/alexeygrigorev/llm-rag-workshop/raw/main/notebooks/documents.json'\n",
    "docs_response = requests.get(docs_url)\n",
    "documents_raw = docs_response.json()\n",
    "\n",
    "documents = []\n",
    "\n",
    "for course in documents_raw:\n",
    "    course_name = course['course']\n",
    "\n",
    "    for doc in course['documents']:\n",
    "        doc['course'] = course_name\n",
    "        documents.append(doc)"
   ]
  },
  {
   "cell_type": "code",
   "execution_count": 63,
   "id": "d125dedc-f4ab-4de6-8850-d1d5f061e86c",
   "metadata": {},
   "outputs": [
    {
     "data": {
      "text/plain": [
       "{'text': \"Yes, even if you don't register, you're still eligible to submit the homeworks.\\nBe aware, however, that there will be deadlines for turning in the final projects. So don't leave everything for the last minute.\",\n",
       " 'section': 'General course-related questions',\n",
       " 'question': 'Course - Can I still join the course after the start date?',\n",
       " 'course': 'data-engineering-zoomcamp'}"
      ]
     },
     "execution_count": 63,
     "metadata": {},
     "output_type": "execute_result"
    }
   ],
   "source": [
    "documents[2]"
   ]
  },
  {
   "cell_type": "code",
   "execution_count": 64,
   "id": "9d9e05fa-e94c-4a6a-b600-506da818df86",
   "metadata": {},
   "outputs": [],
   "source": [
    "df = pd.DataFrame(documents, columns=['course', 'section', 'question', 'text'])"
   ]
  },
  {
   "cell_type": "code",
   "execution_count": 65,
   "id": "104dceaf",
   "metadata": {},
   "outputs": [],
   "source": [
    "from sklearn.feature_extraction.text import TfidfVectorizer"
   ]
  },
  {
   "cell_type": "code",
   "execution_count": 66,
   "id": "fa5619ea",
   "metadata": {},
   "outputs": [],
   "source": [
    "cv = TfidfVectorizer(stop_words='english', min_df=5)"
   ]
  },
  {
   "cell_type": "code",
   "execution_count": 67,
   "id": "c989d08b",
   "metadata": {},
   "outputs": [],
   "source": [
    "X = cv.fit_transform(df.text)"
   ]
  },
  {
   "cell_type": "code",
   "execution_count": 68,
   "id": "c3c835b8",
   "metadata": {},
   "outputs": [
    {
     "data": {
      "text/plain": [
       "array([[0., 0., 0., ..., 0., 0., 0.]])"
      ]
     },
     "execution_count": 68,
     "metadata": {},
     "output_type": "execute_result"
    }
   ],
   "source": [
    "query = \"Do I need to know python to sign up for the January course?\"\n",
    "q = cv.transform([query])\n",
    "q.toarray()"
   ]
  },
  {
   "cell_type": "code",
   "execution_count": 69,
   "id": "1cf76e76",
   "metadata": {},
   "outputs": [],
   "source": [
    "from sklearn.metrics.pairwise import cosine_similarity"
   ]
  },
  {
   "cell_type": "code",
   "execution_count": 81,
   "id": "3d60fafa",
   "metadata": {},
   "outputs": [],
   "source": [
    "score = cosine_similarity(X, q).flatten()"
   ]
  },
  {
   "cell_type": "code",
   "execution_count": 82,
   "id": "7c4cff79",
   "metadata": {},
   "outputs": [
    {
     "data": {
      "text/plain": [
       "array([473, 602, 603, 604, 605, 606, 607, 608, 609, 610, 611, 612, 613,\n",
       "       614, 615, 616, 617, 618, 620, 621, 622, 624, 625, 627, 601, 628,\n",
       "       600, 596, 570, 571, 572, 573, 574, 575, 576, 577, 578, 579, 580,\n",
       "       581, 582, 583, 584, 585, 586, 589, 590, 591, 592, 594, 595, 597,\n",
       "       569, 629, 632, 665, 666, 667, 668, 670, 671, 673, 674, 675, 676,\n",
       "       677, 678, 679, 680, 682, 683, 684, 686, 687, 688, 689, 690, 691,\n",
       "       664, 631, 663, 661, 633, 634, 635, 636, 637, 638, 640, 641, 642,\n",
       "       643, 644, 645, 646, 647, 649, 650, 651, 652, 653, 655, 658, 659,\n",
       "       660, 662, 692, 567, 564, 478, 479, 480, 481, 482, 483, 484, 486,\n",
       "       487, 488, 489, 490, 491, 492, 493, 494, 495, 496, 497, 498, 499,\n",
       "       500, 501, 477, 504, 476, 474, 433, 434, 437, 438, 441, 442, 443,\n",
       "       444, 446, 447, 453, 459, 460, 461, 462, 463, 466, 467, 468, 469,\n",
       "       471, 472, 946, 475, 566, 505, 507, 539, 540, 541, 542, 543, 544,\n",
       "       545, 546, 547, 548, 549, 550, 551, 552, 553, 554, 555, 556, 558,\n",
       "       559, 560, 562, 563, 538, 506, 537, 535, 508, 509, 510, 512, 513,\n",
       "       514, 515, 516, 517, 518, 519, 520, 521, 523, 524, 526, 527, 529,\n",
       "       530, 531, 532, 533, 534, 536, 432, 694, 696, 855, 856, 859, 860,\n",
       "       861, 862, 863, 864, 865, 866, 868, 869, 870, 871, 872, 873, 874,\n",
       "       875, 876, 877, 878, 879, 880, 854, 881, 853, 851, 828, 829, 830,\n",
       "       831, 832, 833, 834, 835, 836, 837, 838, 839, 840, 841, 842, 843,\n",
       "       844, 845, 846, 847, 848, 849, 850, 852, 827, 882, 884, 919, 920,\n",
       "       921, 924, 925, 926, 927, 928, 929, 930, 931, 934, 935, 936, 937,\n",
       "       938, 939, 940, 941, 942, 943, 944, 945, 918, 883, 917, 914, 885,\n",
       "       886, 887, 888, 889, 890, 892, 893, 894, 895, 897, 898, 899, 900,\n",
       "       901, 902, 903, 904, 907, 909, 910, 911, 912, 916, 695, 825, 823,\n",
       "       728, 730, 731, 733, 734, 735, 736, 737, 738, 739, 742, 743, 744,\n",
       "       745, 746, 747, 748, 750, 751, 752, 753, 754, 755, 727, 756, 726,\n",
       "       723, 697, 698, 699, 701, 702, 703, 704, 705, 706, 707, 708, 709,\n",
       "       710, 711, 712, 713, 714, 716, 717, 718, 720, 721, 722, 724, 824,\n",
       "       757, 763, 796, 797, 798, 799, 800, 801, 802, 803, 805, 807, 808,\n",
       "       809, 811, 812, 813, 815, 816, 817, 818, 819, 820, 821, 822, 795,\n",
       "       761, 794, 792, 765, 766, 767, 769, 770, 771, 772, 773, 775, 776,\n",
       "       777, 778, 779, 781, 782, 783, 784, 785, 786, 788, 789, 790, 791,\n",
       "       793, 431, 947, 429, 169, 170, 171, 175, 176, 177, 178, 179, 180,\n",
       "       181, 168, 182, 184, 185, 186, 187, 188, 189, 190, 191, 192, 194,\n",
       "       183, 166, 164, 163, 137, 138, 139, 140, 141, 143, 144, 145, 146,\n",
       "       147, 149, 150, 151, 152, 153, 154, 155, 156, 157, 159, 160, 161,\n",
       "       162, 195, 196, 197, 198, 229, 230, 231, 232, 233, 234, 235, 236,\n",
       "       237, 238, 239, 240, 242, 244, 245, 246, 247, 248, 249, 250, 251,\n",
       "       252, 253, 228, 136, 227, 224, 199, 200, 201, 202, 203, 204, 205,\n",
       "       206, 207, 208, 210, 211, 212, 213, 214, 215, 216, 217, 218, 220,\n",
       "       221, 222, 223, 225, 254, 135, 133,  38,  42,  44,  45,  46,  47,\n",
       "        49,  50,  51,  52,  37,  53,  55,  56,  57,  58,  59,  60,  61,\n",
       "        63,  65,  66,  54,  36,  35,  34,   1,   2,   4,   5,   6,   8,\n",
       "         9,  10,  12,  13,  14,  16,  17,  19,  20,  21,  24,  25,  26,\n",
       "        29,  30,  31,  32,  67,  68,  70,  71, 108, 109, 110, 111, 112,\n",
       "       114, 115, 116, 118, 119, 120, 121, 122, 123, 124, 125, 126, 127,\n",
       "       128, 129, 130, 131, 132, 107, 134, 105, 102,  72,  73,  74,  76,\n",
       "        77,  79,  80,  81,  82,  84,  85,  87,  89,  90,  92,  93,  94,\n",
       "        95,  96,  97,  98,  99, 101, 103, 255, 219, 257, 354, 355, 356,\n",
       "       357, 358, 359, 360, 361, 362, 363, 364, 365, 366, 367, 368, 369,\n",
       "       370, 371, 372, 373, 374, 353, 375, 256, 350, 325, 326, 329, 330,\n",
       "       331, 332, 334, 335, 336, 337, 338, 339, 340, 341, 343, 344, 345,\n",
       "       346, 347, 348, 349, 351, 324, 376, 378, 407, 408, 409, 410, 412,\n",
       "       413, 414, 415, 416, 417, 418, 419, 420, 421, 422, 423, 424, 425,\n",
       "       426, 427, 428, 406, 377, 405, 403, 379, 380, 381, 382, 383, 384,\n",
       "       385, 387, 388, 389, 390, 391, 392, 393, 394, 397, 398, 399, 400,\n",
       "       401, 402, 404, 323, 352, 303, 296, 297, 298, 271, 299, 270, 269,\n",
       "       272, 268, 302, 279, 304, 305, 306, 307, 308, 301, 309, 295, 293,\n",
       "       278, 281, 282, 283, 284, 277, 285, 294, 286, 275, 274, 289, 290,\n",
       "       291, 292, 273, 276, 310, 280, 266, 318, 317, 316, 263, 261, 315,\n",
       "       314, 262, 260, 264, 320, 313, 259, 312, 258, 311, 319,  64, 333,\n",
       "       158, 672, 598, 891, 104, 648, 749, 321, 241, 857,  48, 630, 715,\n",
       "       896, 700, 106,  88,  39, 458, 485, 922, 693, 905, 669, 243, 465,\n",
       "       599, 656, 117, 740, 932, 568, 522, 557, 174, 906, 300, 732, 386,\n",
       "       456, 172, 322, 787, 725, 173, 265, 209,  86,  43, 528, 933, 729,\n",
       "       525, 561, 760, 762,  40, 681, 288,  75, 685,  83,  91, 167,  33,\n",
       "       502, 619, 867, 165, 267, 464, 759, 908, 503,  69, 430, 593, 626,\n",
       "        78, 439, 858, 639, 810, 804, 587, 470, 623,  62, 780, 774, 719,\n",
       "        41, 806, 328,  18, 327, 142, 826, 226, 100, 741, 411, 193,  15,\n",
       "       915, 342,  23, 511, 396, 454, 768, 923, 395, 450, 435, 148, 814,\n",
       "       758,  28, 588, 913, 451, 455, 565, 654,  11, 445, 113,   7, 457,\n",
       "       657, 436,   3, 287, 764, 452,  27,  22, 448, 449, 440,   0])"
      ]
     },
     "execution_count": 82,
     "metadata": {},
     "output_type": "execute_result"
    }
   ],
   "source": [
    "import numpy as np\n",
    "np.argsort(score)"
   ]
  },
  {
   "cell_type": "code",
   "execution_count": 83,
   "id": "bb8538a4",
   "metadata": {},
   "outputs": [],
   "source": [
    "fields = ['section', 'question', 'text']"
   ]
  },
  {
   "cell_type": "code",
   "execution_count": 84,
   "id": "f59798d0",
   "metadata": {},
   "outputs": [],
   "source": [
    "matrices = {}\n",
    "vectorizers = {}\n",
    "\n",
    "for f in fields:\n",
    "    cv = TfidfVectorizer(stop_words='english', min_df=5)\n",
    "    X = cv.fit_transform(df[f])\n",
    "    matrices[f] = X\n",
    "    vectorizers[f] = cv"
   ]
  },
  {
   "cell_type": "code",
   "execution_count": 85,
   "id": "34307eb7",
   "metadata": {},
   "outputs": [],
   "source": [
    "n = len(df)\n",
    "score = np.zeros(n)\n",
    "query = \"I just discovered the course, is it too late to join?\"\n",
    "boosts = {\n",
    "    'question': 3\n",
    "    #'text': 0.5\n",
    "    }\n",
    "for f in fields:\n",
    "    q = vectorizers[f].transform([query])\n",
    "    X = matrices[f]\n",
    "    boost = boosts.get(f, 1.0)\n",
    "    f_score  = cosine_similarity(X,q).flatten()\n",
    "\n",
    "    score = score + boost * f_score"
   ]
  },
  {
   "cell_type": "code",
   "execution_count": 86,
   "id": "d0005fb1",
   "metadata": {},
   "outputs": [],
   "source": [
    "filters = {'course': 'data-engineering-zoomcamp'}\n",
    "for field, value in filters.items():\n",
    "    mask = (df[field] == value).astype(int)\n",
    "    score = score * mask"
   ]
  },
  {
   "cell_type": "code",
   "execution_count": 88,
   "id": "eef0a81a",
   "metadata": {},
   "outputs": [
    {
     "data": {
      "text/html": [
       "<div>\n",
       "<style scoped>\n",
       "    .dataframe tbody tr th:only-of-type {\n",
       "        vertical-align: middle;\n",
       "    }\n",
       "\n",
       "    .dataframe tbody tr th {\n",
       "        vertical-align: top;\n",
       "    }\n",
       "\n",
       "    .dataframe thead th {\n",
       "        text-align: right;\n",
       "    }\n",
       "</style>\n",
       "<table border=\"1\" class=\"dataframe\">\n",
       "  <thead>\n",
       "    <tr style=\"text-align: right;\">\n",
       "      <th></th>\n",
       "      <th>course</th>\n",
       "      <th>section</th>\n",
       "      <th>question</th>\n",
       "      <th>text</th>\n",
       "    </tr>\n",
       "  </thead>\n",
       "  <tbody>\n",
       "    <tr>\n",
       "      <th>7</th>\n",
       "      <td>data-engineering-zoomcamp</td>\n",
       "      <td>General course-related questions</td>\n",
       "      <td>Course - Can I follow the course after it fini...</td>\n",
       "      <td>Yes, we will keep all the materials after the ...</td>\n",
       "    </tr>\n",
       "    <tr>\n",
       "      <th>0</th>\n",
       "      <td>data-engineering-zoomcamp</td>\n",
       "      <td>General course-related questions</td>\n",
       "      <td>Course - When will the course start?</td>\n",
       "      <td>The purpose of this document is to capture fre...</td>\n",
       "    </tr>\n",
       "    <tr>\n",
       "      <th>1</th>\n",
       "      <td>data-engineering-zoomcamp</td>\n",
       "      <td>General course-related questions</td>\n",
       "      <td>Course - What are the prerequisites for this c...</td>\n",
       "      <td>GitHub - DataTalksClub data-engineering-zoomca...</td>\n",
       "    </tr>\n",
       "    <tr>\n",
       "      <th>4</th>\n",
       "      <td>data-engineering-zoomcamp</td>\n",
       "      <td>General course-related questions</td>\n",
       "      <td>Course - What can I do before the course starts?</td>\n",
       "      <td>You can start by installing and setting up all...</td>\n",
       "    </tr>\n",
       "    <tr>\n",
       "      <th>5</th>\n",
       "      <td>data-engineering-zoomcamp</td>\n",
       "      <td>General course-related questions</td>\n",
       "      <td>Course - how many Zoomcamps in a year?</td>\n",
       "      <td>There are 3 Zoom Camps in a year, as of 2024. ...</td>\n",
       "    </tr>\n",
       "  </tbody>\n",
       "</table>\n",
       "</div>"
      ],
      "text/plain": [
       "                      course                           section  \\\n",
       "7  data-engineering-zoomcamp  General course-related questions   \n",
       "0  data-engineering-zoomcamp  General course-related questions   \n",
       "1  data-engineering-zoomcamp  General course-related questions   \n",
       "4  data-engineering-zoomcamp  General course-related questions   \n",
       "5  data-engineering-zoomcamp  General course-related questions   \n",
       "\n",
       "                                            question  \\\n",
       "7  Course - Can I follow the course after it fini...   \n",
       "0               Course - When will the course start?   \n",
       "1  Course - What are the prerequisites for this c...   \n",
       "4   Course - What can I do before the course starts?   \n",
       "5             Course - how many Zoomcamps in a year?   \n",
       "\n",
       "                                                text  \n",
       "7  Yes, we will keep all the materials after the ...  \n",
       "0  The purpose of this document is to capture fre...  \n",
       "1  GitHub - DataTalksClub data-engineering-zoomca...  \n",
       "4  You can start by installing and setting up all...  \n",
       "5  There are 3 Zoom Camps in a year, as of 2024. ...  "
      ]
     },
     "execution_count": 88,
     "metadata": {},
     "output_type": "execute_result"
    }
   ],
   "source": [
    "idx = np.argsort(-score)[:5]\n",
    "df.iloc[idx]"
   ]
  },
  {
   "cell_type": "code",
   "execution_count": null,
   "id": "dc486636",
   "metadata": {},
   "outputs": [],
   "source": [
    "class TextSearch:\n",
    "\n",
    "    def __init__(self, text_fields):\n",
    "        self.text_fields = text_fields\n",
    "        self.matrices = {}\n",
    "        self.vectorizers = {}\n",
    "\n",
    "    def fit(self, records, vectorizer_params={}):\n",
    "        self.df = pd.DataFrame(records)\n",
    "\n",
    "        for f in self.text_fields:\n",
    "            cv = TfidfVectorizer(**vectorizer_params)\n",
    "            X = cv.fit_transform(self.df[f])\n",
    "            self.matrices[f] = X\n",
    "            self.vectorizers[f] = cv\n",
    "\n",
    "    def search(self, query, n_results=10, boost={}, filters={}):\n",
    "        score = np.zeros(len(self.df))\n",
    "\n",
    "        for f in self.text_fields:\n",
    "            b = boost.get(f, 1.0)\n",
    "            q = self.vectorizers[f].transform([query])\n",
    "            s = cosine_similarity(self.matrices[f], q).flatten()\n",
    "            score = score + b * s\n",
    "\n",
    "        for field, value in filters.items():\n",
    "            mask = (self.df[field] == value).values\n",
    "            score = score * mask\n",
    "\n",
    "        idx = np.argsort(-score)[:n_results]\n",
    "        results = self.df.iloc[idx]\n",
    "        return results.to_dict(orient='records')"
   ]
  }
 ],
 "metadata": {
  "kernelspec": {
   "display_name": "Python 3 (ipykernel)",
   "language": "python",
   "name": "python3"
  },
  "language_info": {
   "codemirror_mode": {
    "name": "ipython",
    "version": 3
   },
   "file_extension": ".py",
   "mimetype": "text/x-python",
   "name": "python",
   "nbconvert_exporter": "python",
   "pygments_lexer": "ipython3",
   "version": "3.10.13"
  }
 },
 "nbformat": 4,
 "nbformat_minor": 5
}
